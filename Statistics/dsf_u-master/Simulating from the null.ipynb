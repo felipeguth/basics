{
 "cells": [
  {
   "cell_type": "markdown",
   "metadata": {},
   "source": [
    "## Simulating from the Null"
   ]
  },
  {
   "cell_type": "markdown",
   "metadata": {},
   "source": [
    "Consider the same example as earlier, where we asked if the mean height for all coffee drinkers was greater thn 70 inches. We could again set up our null and alternative hypotheses like this."
   ]
  },
  {
   "attachments": {
    "hypothesis_testing.png": {
     "image/png": "[encoded data removed]"
    }
   },
   "cell_type": "markdown",
   "metadata": {},
   "source": [
    "![hypothesis_testing.png](attachment:hypothesis_testing.png)"
   ]
  },
  {
   "cell_type": "markdown",
   "metadata": {},
   "source": [
    "A second approach that is commonly done for making decisions in hypothesis testing is the following."
   ]
  },
  {
   "cell_type": "markdown",
   "metadata": {},
   "source": [
    "We assume that the null is true and we know that what the sampling distribution would look like if we were to simulate from the closest value under the null to the alternative i.e. the value of 70. That's the closest value under null hypothesis to our alternative hypothesis."
   ]
  },
  {
   "cell_type": "markdown",
   "metadata": {},
   "source": [
    "We could use the standard deviation of the sampling distribution to determine what the sampling distribution would look like if it came from the null hypothesis. We'll simulate from a normal distribution in this case."
   ]
  },
  {
   "cell_type": "code",
   "execution_count": 1,
   "metadata": {},
   "outputs": [],
   "source": [
    "import pandas as pd\n",
    "import numpy as np\n",
    "import matplotlib.pyplot as plt\n",
    "\n",
    "%matplotlib inline\n",
    "np.random.seed(42)\n",
    "\n",
    "df = pd.read_csv('coffee_dataset.csv')"
   ]
  },
  {
   "cell_type": "code",
   "execution_count": 2,
   "metadata": {},
   "outputs": [],
   "source": [
    "sample_df = df.sample(150)\n",
    "means = []\n",
    "for _ in range(10000):\n",
    "    bootsample = sample_df.sample(150, replace=True)\n",
    "    means.append(bootsample.height.mean())"
   ]
  },
  {
   "cell_type": "code",
   "execution_count": 3,
   "metadata": {},
   "outputs": [
    {
     "data": {
      "text/plain": [
       "0.2658039514418037"
      ]
     },
     "execution_count": 3,
     "metadata": {},
     "output_type": "execute_result"
    }
   ],
   "source": [
    "np.std(means)"
   ]
  },
  {
   "cell_type": "markdown",
   "metadata": {},
   "source": [
    "So the standard deviation of our sampling distribution is equal to 0.2658. And we know that it came from the null hypothesized value of 70 what it would look like. By the Central Limit Theorem, we know that it would follow a normal distribution. Now from the Numpy documentation on normal distributions https://docs.scipy.org/doc/numpy-1.14.0/reference/generated/numpy.random.normal.html, we see we can simulate draws from the normal using the hypothesized mean at 70 and the standard deviation of our sampling distribution in the following way."
   ]
  },
  {
   "cell_type": "code",
   "execution_count": 4,
   "metadata": {},
   "outputs": [],
   "source": [
    "null_vals = np.random.normal(70, np.std(means), 10000)"
   ]
  },
  {
   "cell_type": "code",
   "execution_count": 5,
   "metadata": {},
   "outputs": [
    {
     "data": {
      "text/plain": [
       "(array([  10.,   75.,  505., 1570., 2882., 2849., 1567.,  447.,   89.,\n",
       "           6.]),\n",
       " array([68.95628683, 69.16544433, 69.37460182, 69.58375932, 69.79291682,\n",
       "        70.00207431, 70.21123181, 70.42038931, 70.6295468 , 70.8387043 ,\n",
       "        71.04786179]),\n",
       " <a list of 10 Patch objects>)"
      ]
     },
     "execution_count": 5,
     "metadata": {},
     "output_type": "execute_result"
    },
    {
     "data": {
      "image/png": "[encoded data removed]",
      "text/plain": [
       "<matplotlib.figure.Figure at 0x10b0456d8>"
      ]
     },
     "metadata": {},
     "output_type": "display_data"
    }
   ],
   "source": [
    "plt.hist(null_vals)"
   ]
  },
  {
   "cell_type": "markdown",
   "metadata": {},
   "source": [
    "Each of the simulated draws here represents a possible mean from the null hypothesis. We can now ask the question of where the sample mean falls in this distribution."
   ]
  },
  {
   "cell_type": "code",
   "execution_count": 6,
   "metadata": {},
   "outputs": [
    {
     "data": {
      "text/plain": [
       "67.63297688228066"
      ]
     },
     "execution_count": 6,
     "metadata": {},
     "output_type": "execute_result"
    }
   ],
   "source": [
    "sample_df.height.mean()"
   ]
  },
  {
   "cell_type": "markdown",
   "metadata": {},
   "source": [
    "If we go back and look at what our sample mean was, we can see that it falls far below this distribution from the norm. If our sample mean was to fall closer to the center value of 70, it would be a value that we would expect from null hypothesis and therefore, we think the null is more likely to be true. In this case, with our sample means so far out in the tail, it's far enough that we don't think it probably came from this null hypothesized value."
   ]
  }
 ],
 "metadata": {
  "kernelspec": {
   "display_name": "Python 3",
   "language": "python",
   "name": "python3"
  },
  "language_info": {
   "codemirror_mode": {
    "name": "ipython",
    "version": 3
   },
   "file_extension": ".py",
   "mimetype": "text/x-python",
   "name": "python",
   "nbconvert_exporter": "python",
   "pygments_lexer": "ipython3",
   "version": "3.6.4"
  }
 },
 "nbformat": 4,
 "nbformat_minor": 2
}
